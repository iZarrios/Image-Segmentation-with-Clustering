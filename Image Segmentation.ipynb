{
 "cells": [
  {
   "cell_type": "markdown",
   "id": "08e448cf",
   "metadata": {},
   "source": [
    "# Image Segmentation - 7150, 7128\n",
    "\n",
    "We intend to perform image segmentation. Image segmentation means that we can group similar pixels together and give these grouped pixels the same label. \n",
    "\n",
    "The grouping problem is a clustering problem. We want to study the use of K-means on the Berkeley Segmentation Benchmark. "
   ]
  },
  {
   "cell_type": "code",
   "execution_count": 1,
   "id": "795817e7",
   "metadata": {},
   "outputs": [],
   "source": [
    "# import necessary libraries\n",
    "\n",
    "import matplotlib.pyplot as plt\n",
    "import numpy as np\n",
    "import os\n",
    "import pandas as pd\n",
    "from sklearn.preprocessing import StandardScaler"
   ]
  },
  {
   "cell_type": "markdown",
   "id": "a81b8ebe",
   "metadata": {},
   "source": [
    "## 1. Download the Dataset and Understand the Format (5 points)"
   ]
  },
  {
   "cell_type": "markdown",
   "id": "fcf9d0d3",
   "metadata": {},
   "source": [
    "## 2. Visualize the image and the G.T Segmentation (5 points)"
   ]
  },
  {
   "cell_type": "code",
   "execution_count": null,
   "id": "4c7b934c",
   "metadata": {},
   "outputs": [],
   "source": [
    "for dirname, _, filenames in os.walk('/'):\n",
    "    for filename in filenames:\n",
    "        print(os.path.join(dirname, filename))"
   ]
  },
  {
   "cell_type": "markdown",
   "id": "d2e74d6f",
   "metadata": {},
   "source": [
    "## 3. Segmentation using K-means (15 points)"
   ]
  },
  {
   "cell_type": "code",
   "execution_count": null,
   "id": "fb5ccf98",
   "metadata": {},
   "outputs": [],
   "source": []
  }
 ],
 "metadata": {
  "kernelspec": {
   "display_name": "Python 3 (ipykernel)",
   "language": "python",
   "name": "python3"
  },
  "language_info": {
   "codemirror_mode": {
    "name": "ipython",
    "version": 3
   },
   "file_extension": ".py",
   "mimetype": "text/x-python",
   "name": "python",
   "nbconvert_exporter": "python",
   "pygments_lexer": "ipython3",
   "version": "3.8.13"
  }
 },
 "nbformat": 4,
 "nbformat_minor": 5
}

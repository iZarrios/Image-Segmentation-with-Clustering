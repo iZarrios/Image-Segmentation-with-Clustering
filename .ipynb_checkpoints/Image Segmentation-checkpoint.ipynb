{
 "cells": [
  {
   "cell_type": "markdown",
   "id": "bee122c5",
   "metadata": {},
   "source": [
    "# Image Segmentation - 7150, 7128\n",
    "\n",
    "We intend to perform image segmentation. Image segmentation means that we can group similar pixels together and give these grouped pixels the same label. \n",
    "\n",
    "The grouping problem is a clustering problem. We want to study the use of K-means on the Berkeley Segmentation Benchmark. "
   ]
  },
  {
   "cell_type": "code",
   "execution_count": null,
   "id": "9bce6b9c",
   "metadata": {},
   "outputs": [],
   "source": [
    "# import necessary libraries\n",
    "\n",
    "import matplotlib.pyplot as plt\n",
    "import numpy as np\n",
    "import os\n",
    "import pandas as pd\n",
    "import cv2\n",
    "from sklearn.preprocessing import StandardScaler\n",
    "import scipy.io as io"
   ]
  },
  {
   "cell_type": "markdown",
   "id": "cc901bd4",
   "metadata": {},
   "source": [
    "## 1. Download the Dataset and Understand the Format (5 points)"
   ]
  },
  {
   "cell_type": "markdown",
   "id": "aa84d1d8",
   "metadata": {},
   "source": [
    "## 2. Visualize the image and the G.T Segmentation (5 points)"
   ]
  },
  {
   "cell_type": "code",
   "execution_count": null,
   "id": "267498fc",
   "metadata": {},
   "outputs": [],
   "source": [
    "# img_paths = {}\n",
    "# gt_paths = {}\n",
    "# img_paths[\"train_imgs\"] = 'dataset/BSR/BSDS500/data/images/train'\n",
    "# img_paths[\"val_imgs\"]= 'dataset/BSR/BSDS500/data/images/val'\n",
    "# img_paths[\"test_imgs\"] = 'dataset/BSR/BSDS500/data/images/test'\n",
    "\n",
    "# gt_paths[\"train_gt\"] = 'dataset/BSR/BSDS500/data/groundTruth/train'\n",
    "# gt_paths[\"val_gt\"] = 'dataset/BSR/BSDS500/data/groundTruth/val'\n",
    "# gt_paths[\"test_gt\"] = 'dataset/BSR/BSDS500/data/groundTruth/test'\n",
    "\n",
    "\n",
    "# #lists = {}\n",
    "# dataset = {}\n",
    "\n",
    "\n",
    "# # Load images\n",
    "# for img_path in img_paths:\n",
    "#     #lists[img_path] = []\n",
    "#     dataset[img_path] = []\n",
    "#     for dirname, _, filenames in os.walk(img_paths[img_path]):\n",
    "#         filenames.sort()\n",
    "#         for filename in filenames:\n",
    "#             temp = os.path.join(dirname, filename)\n",
    "#             #lists[img_path].append(temp)\n",
    "#             dataset[img_path].append(cv2.imread(temp))\n",
    "            \n",
    "# # Load ground truths         \n",
    "# for gt_path in gt_paths:\n",
    "#     dataset[gt_path] = []\n",
    "#     for dirname, _, filenames in os.walk(gt_paths[gt_path]):\n",
    "#         filenames.sort()\n",
    "#         for filename in filenames:\n",
    "#             temp = os.path.join(dirname, filename)\n",
    "#             file = io.loadmat(temp)\n",
    "#             edges = file['groundTruth'][0][0][0][0][1]\n",
    "#             segmap = file['groundTruth'][0][0][0][0][0]\n",
    "#             map2 = file['groundTruth'][0][1][0][0][0]\n",
    "#             map3 = file['groundTruth'][0][2][0][0][0]\n",
    "#             map4 = file['groundTruth'][0][][0][0][0]\n",
    "#             segmap_uint8 = segmap.astype(np.uint8) # convert to uint8 to prevent lossy conversion when saving image\n",
    "#             edges_255 = edges * 255\n",
    "#             final = [segmap_uint8, edges_255, map2, map3, map4]\n",
    "#             dataset[gt_path].append(final)"
   ]
  },
  {
   "cell_type": "code",
   "execution_count": null,
   "id": "e0014492",
   "metadata": {},
   "outputs": [],
   "source": [
    "img_path = 'dataset/BSR/BSDS500/data/images/test'\n",
    "gt_path = 'dataset/BSR/BSDS500/data/groundTruth/test'\n",
    "\n",
    "dataset = {}\n",
    "\n",
    "# Load images\n",
    "dataset['imgs'] = []\n",
    "for dirname, _, filenames in os.walk(img_path):\n",
    "    filenames.sort()\n",
    "    for filename in filenames:\n",
    "        temp = os.path.join(dirname, filename)\n",
    "        img_tmp = cv2.imread(temp)\n",
    "        img_rgb = cv2.cvtColor(img_tmp, cv2.COLOR_BGR2RGB)\n",
    "        dataset['imgs'].append(img_rgb)\n",
    "            \n",
    "# Load ground truths         \n",
    "dataset['gt'] = []\n",
    "for dirname, _, filenames in os.walk(gt_path):\n",
    "    filenames.sort()\n",
    "    for filename in filenames:\n",
    "        temp = os.path.join(dirname, filename)\n",
    "        file = io.loadmat(temp)\n",
    "        edges = file['groundTruth'][0][0][0][0][1]\n",
    "        map1 = file['groundTruth'][0][0][0][0][0]\n",
    "        map2 = file['groundTruth'][0][1][0][0][0]\n",
    "        map3 = file['groundTruth'][0][2][0][0][0]\n",
    "        map4 = file['groundTruth'][0][3][0][0][0]\n",
    "        #map5 = file['groundTruth'][0][4][0][0][0]\n",
    "        #segmap_uint8 = segmap.astype(np.uint8) # convert to uint8 to prevent lossy conversion when saving image\n",
    "        edges_255 = edges * 255\n",
    "        final = [edges_255, map1, map2, map3, map4]\n",
    "        dataset['gt'].append(final)"
   ]
  },
  {
   "cell_type": "code",
   "execution_count": null,
   "id": "558724ec",
   "metadata": {},
   "outputs": [],
   "source": [
    "for path in dataset:\n",
    "    dataset[path] = np.array(dataset[path])\n",
    "    print(\"Shape of\", path, \"is equal\", dataset[path].shape)"
   ]
  },
  {
   "cell_type": "code",
   "execution_count": null,
   "id": "8bac85cb",
   "metadata": {
    "scrolled": true
   },
   "outputs": [],
   "source": [
    "import random\n",
    "def visualize_random():\n",
    "    n = random.randint(0, 200)\n",
    "    fig, axes = plt.subplots(2, 3)\n",
    "    axes[0, 0].imshow(dataset[\"imgs\"][n])\n",
    "    axes[0, 1].imshow(dataset[\"gt\"][n][0])\n",
    "    axes[0, 2].imshow(dataset[\"gt\"][n][1])\n",
    "    axes[1, 0].imshow(dataset[\"gt\"][n][2])\n",
    "    axes[1, 1].imshow(dataset[\"gt\"][n][3])\n",
    "    axes[1, 2].imshow(dataset[\"gt\"][n][4])\n",
    "    \n",
    "    plt.show()\n",
    "    \n",
    "visualize_random()"
   ]
  },
  {
   "cell_type": "markdown",
   "id": "cf95d392",
   "metadata": {},
   "source": [
    "## 3. Segmentation using K-means (15 points)"
   ]
  },
  {
   "cell_type": "markdown",
   "id": "f778c12a",
   "metadata": {},
   "source": [
    "## DO NOT FORGET TO SWITCH FROM BGR TO RGB"
   ]
  },
  {
   "cell_type": "markdown",
   "id": "ce1f9bd8",
   "metadata": {},
   "source": [
    "We will change the K of the K-means algorithm between {3,5,7,9,11}\n",
    "clusters. You will produce different segmentations and save them as\n",
    "colored images. Every color represents a certain group (cluster) of\n",
    "pixels."
   ]
  },
  {
   "cell_type": "code",
   "execution_count": null,
   "id": "d609406c",
   "metadata": {},
   "outputs": [],
   "source": [
    "from sklearn.cluster import KMeans\n",
    "\n",
    "Ks = [3, 5, 7, 9, 11]\n",
    "results = {}\n",
    "for k in Ks:\n",
    "    results[k] = []\n",
    "    for i in range(50):\n",
    "        image = dataset[\"imgs\"][i]\n",
    "        image = image.reshape((321*481, -1))\n",
    "        kmeans = KMeans(n_clusters=k, random_state=0).fit(image[:,:])\n",
    "        pic2show = kmeans.cluster_centers_[kmeans.labels_]\n",
    "        pic2show = pic2show.reshape((321, 481, -1))\n",
    "        pic2show = pic2show.astype(np.uint8)\n",
    "        results[k].append(pic2show)\n",
    "    break"
   ]
  },
  {
   "cell_type": "code",
   "execution_count": null,
   "id": "471a4532",
   "metadata": {},
   "outputs": [],
   "source": [
    "def visualize_results():\n",
    "    n = random.randint(0, 50)\n",
    "    fig, axes = plt.subplots(1, 2)\n",
    "    axes[0].imshow(dataset[\"imgs\"][n])\n",
    "    axes[1].imshow(results[3][n])\n",
    "    plt.show()\n",
    "    \n",
    "visualize_results()\n",
    "    "
   ]
  }
 ],
 "metadata": {
  "kernelspec": {
   "display_name": "Python 3 (ipykernel)",
   "language": "python",
   "name": "python3"
  },
  "language_info": {
   "codemirror_mode": {
    "name": "ipython",
    "version": 3
   },
   "file_extension": ".py",
   "mimetype": "text/x-python",
   "name": "python",
   "nbconvert_exporter": "python",
   "pygments_lexer": "ipython3",
   "version": "3.8.13"
  }
 },
 "nbformat": 4,
 "nbformat_minor": 5
}
